{
 "cells": [
  {
   "cell_type": "code",
   "execution_count": 1,
   "id": "6d3a9083",
   "metadata": {},
   "outputs": [
    {
     "name": "stdout",
     "output_type": "stream",
     "text": [
      "Hello World\n"
     ]
    }
   ],
   "source": [
    "print(\"Hello World\")"
   ]
  },
  {
   "cell_type": "code",
   "execution_count": 2,
   "id": "5b2747d9",
   "metadata": {},
   "outputs": [
    {
     "name": "stdout",
     "output_type": "stream",
     "text": [
      "0\n",
      "1\n",
      "2\n"
     ]
    }
   ],
   "source": [
    "for i in range(3):\n",
    "    print(i)"
   ]
  },
  {
   "cell_type": "code",
   "execution_count": 70,
   "id": "a1eeefc2",
   "metadata": {},
   "outputs": [],
   "source": [
    "scores = [[70, 88, 100, 80, 84], [65, 78, 80, 78, 85], [70, 78, 84, 90, 96], [100, 90, 98, 77, 60], [66, 80, 78, 98, 65]]"
   ]
  },
  {
   "cell_type": "code",
   "execution_count": 11,
   "id": "4566f37b",
   "metadata": {},
   "outputs": [
    {
     "data": {
      "text/plain": [
       "list"
      ]
     },
     "execution_count": 11,
     "metadata": {},
     "output_type": "execute_result"
    }
   ],
   "source": [
    "type(scores)"
   ]
  },
  {
   "cell_type": "code",
   "execution_count": 71,
   "id": "5189fcb6",
   "metadata": {},
   "outputs": [
    {
     "name": "stdout",
     "output_type": "stream",
     "text": [
      "[422, 386, 418, 425, 387]\n"
     ]
    }
   ],
   "source": [
    "totalScoreList = []\n",
    "for i in scores:\n",
    "    totalScores = 0 \n",
    "    for j in i: \n",
    "        totalScores += j\n",
    "    totalScoreList.append(totalScores)\n",
    "print(totalScoreList)"
   ]
  },
  {
   "cell_type": "code",
   "execution_count": 74,
   "id": "a11b3575",
   "metadata": {},
   "outputs": [
    {
     "name": "stdout",
     "output_type": "stream",
     "text": [
      "1 號同學的平均高於80分\n",
      "3 號同學的平均高於80分\n",
      "4 號同學的平均高於80分\n"
     ]
    }
   ],
   "source": [
    "#print(totalScoreList)\n",
    "for i in range(len(totalScoreList)): \n",
    "    if (totalScoreList[i] / len(totalScoreList) >= 80):\n",
    "        #print(totalScoreList[i] / len(totalScoreList))\n",
    "        print( i+1 , '號同學的平均高於80分')\n",
    "    #else:\n",
    "        #print('No')"
   ]
  },
  {
   "cell_type": "code",
   "execution_count": 79,
   "id": "fba7c55e",
   "metadata": {},
   "outputs": [],
   "source": [
    "dict = {'國文' : 90, '英文': 100, '數學': 88, '社會': 95, '自然': 78 }\n",
    "dict['國文']  #結果會是90分\n",
    "dict['數學'] = 91  #可以把數學的分數改成91"
   ]
  },
  {
   "cell_type": "code",
   "execution_count": 80,
   "id": "0a59faee",
   "metadata": {},
   "outputs": [
    {
     "name": "stdout",
     "output_type": "stream",
     "text": [
      "91\n"
     ]
    }
   ],
   "source": [
    "print(dict['數學'])"
   ]
  },
  {
   "cell_type": "code",
   "execution_count": null,
   "id": "cfa0c228",
   "metadata": {},
   "outputs": [],
   "source": []
  }
 ],
 "metadata": {
  "kernelspec": {
   "display_name": "Python 3 (ipykernel)",
   "language": "python",
   "name": "python3"
  },
  "language_info": {
   "codemirror_mode": {
    "name": "ipython",
    "version": 3
   },
   "file_extension": ".py",
   "mimetype": "text/x-python",
   "name": "python",
   "nbconvert_exporter": "python",
   "pygments_lexer": "ipython3",
   "version": "3.9.7"
  }
 },
 "nbformat": 4,
 "nbformat_minor": 5
}
