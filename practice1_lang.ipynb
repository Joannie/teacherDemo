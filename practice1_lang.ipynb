{
 "cells": [
  {
   "cell_type": "code",
   "execution_count": 31,
   "id": "bac55c99",
   "metadata": {},
   "outputs": [
    {
     "data": {
      "text/html": [
       "<div>\n",
       "<style scoped>\n",
       "    .dataframe tbody tr th:only-of-type {\n",
       "        vertical-align: middle;\n",
       "    }\n",
       "\n",
       "    .dataframe tbody tr th {\n",
       "        vertical-align: top;\n",
       "    }\n",
       "\n",
       "    .dataframe thead th {\n",
       "        text-align: right;\n",
       "    }\n",
       "</style>\n",
       "<table border=\"1\" class=\"dataframe\">\n",
       "  <thead>\n",
       "    <tr style=\"text-align: right;\">\n",
       "      <th></th>\n",
       "      <th>sname</th>\n",
       "      <th>district</th>\n",
       "      <th>pzoon</th>\n",
       "      <th>fzoon</th>\n",
       "      <th>mark</th>\n",
       "    </tr>\n",
       "  </thead>\n",
       "  <tbody>\n",
       "    <tr>\n",
       "      <th>0</th>\n",
       "      <td>北峰國小</td>\n",
       "      <td>汐止區</td>\n",
       "      <td>中興里、福德里、康福里、興福里、環河里（6－10鄰）、樟樹里（6－8、10－11鄰）</td>\n",
       "      <td>樟樹里（9鄰）【北峰、樟樹國小自由學區】</td>\n",
       "      <td>NaN</td>\n",
       "    </tr>\n",
       "    <tr>\n",
       "      <th>1</th>\n",
       "      <td>北港國小</td>\n",
       "      <td>汐止區</td>\n",
       "      <td>拱北里、烘內里、八連里（5－10鄰）</td>\n",
       "      <td>八連里（1－4鄰）【北港、汐止國小自由學區】</td>\n",
       "      <td>NaN</td>\n",
       "    </tr>\n",
       "    <tr>\n",
       "      <th>2</th>\n",
       "      <td>白雲國小</td>\n",
       "      <td>汐止區</td>\n",
       "      <td>橫科里、福山里</td>\n",
       "      <td>一、白雲里（1－9鄰）【白雲、汐止、秀峰國小自由學區】 二、宜興里、東勢里【白雲國小、臺北市...</td>\n",
       "      <td>開放為全市自由學區。</td>\n",
       "    </tr>\n",
       "    <tr>\n",
       "      <th>3</th>\n",
       "      <td>汐止國小</td>\n",
       "      <td>汐止區</td>\n",
       "      <td>仁德里、義民里、禮門里、智慧里、大同里、信望里、江北里</td>\n",
       "      <td>一、復興里【汐止、秀峰國小自由學區】 二、白雲里（1－9鄰）【汐止、白雲、秀峰國小自由學區】...</td>\n",
       "      <td>NaN</td>\n",
       "    </tr>\n",
       "    <tr>\n",
       "      <th>4</th>\n",
       "      <td>秀峰國小</td>\n",
       "      <td>汐止區</td>\n",
       "      <td>秀峰里、秀山里、福安里</td>\n",
       "      <td>一、復興里【秀峰、汐止國小自由學區】 二、白雲里（1－9鄰）【秀峰、白雲、汐止國小自由學區】...</td>\n",
       "      <td>◎青山國中小國小部學區內學齡兒童（文化里、自強里），兄姐已就讀秀峰國小者，為方便家長接送可優...</td>\n",
       "    </tr>\n",
       "  </tbody>\n",
       "</table>\n",
       "</div>"
      ],
      "text/plain": [
       "  sname district                                       pzoon  \\\n",
       "0  北峰國小      汐止區  中興里、福德里、康福里、興福里、環河里（6－10鄰）、樟樹里（6－8、10－11鄰）   \n",
       "1  北港國小      汐止區                          拱北里、烘內里、八連里（5－10鄰）   \n",
       "2  白雲國小      汐止區                                     橫科里、福山里   \n",
       "3  汐止國小      汐止區                 仁德里、義民里、禮門里、智慧里、大同里、信望里、江北里   \n",
       "4  秀峰國小      汐止區                                 秀峰里、秀山里、福安里   \n",
       "\n",
       "                                               fzoon  \\\n",
       "0                               樟樹里（9鄰）【北峰、樟樹國小自由學區】   \n",
       "1                             八連里（1－4鄰）【北港、汐止國小自由學區】   \n",
       "2  一、白雲里（1－9鄰）【白雲、汐止、秀峰國小自由學區】 二、宜興里、東勢里【白雲國小、臺北市...   \n",
       "3  一、復興里【汐止、秀峰國小自由學區】 二、白雲里（1－9鄰）【汐止、白雲、秀峰國小自由學區】...   \n",
       "4  一、復興里【秀峰、汐止國小自由學區】 二、白雲里（1－9鄰）【秀峰、白雲、汐止國小自由學區】...   \n",
       "\n",
       "                                                mark  \n",
       "0                                                NaN  \n",
       "1                                                NaN  \n",
       "2                                         開放為全市自由學區。  \n",
       "3                                                NaN  \n",
       "4  ◎青山國中小國小部學區內學齡兒童（文化里、自強里），兄姐已就讀秀峰國小者，為方便家長接送可優...  "
      ]
     },
     "execution_count": 31,
     "metadata": {},
     "output_type": "execute_result"
    }
   ],
   "source": [
    "import pandas as pd\n",
    "df = pd.read_csv('汐止區.csv')\n",
    "df.head()"
   ]
  },
  {
   "cell_type": "code",
   "execution_count": 36,
   "id": "dececed6",
   "metadata": {},
   "outputs": [
    {
     "data": {
      "text/html": [
       "<div>\n",
       "<style scoped>\n",
       "    .dataframe tbody tr th:only-of-type {\n",
       "        vertical-align: middle;\n",
       "    }\n",
       "\n",
       "    .dataframe tbody tr th {\n",
       "        vertical-align: top;\n",
       "    }\n",
       "\n",
       "    .dataframe thead th {\n",
       "        text-align: right;\n",
       "    }\n",
       "</style>\n",
       "<table border=\"1\" class=\"dataframe\">\n",
       "  <thead>\n",
       "    <tr style=\"text-align: right;\">\n",
       "      <th></th>\n",
       "      <th>Seq</th>\n",
       "      <th>DateListed</th>\n",
       "      <th>年度</th>\n",
       "      <th>族語方言別</th>\n",
       "      <th>級別</th>\n",
       "      <th>報名人數</th>\n",
       "      <th>應試人數</th>\n",
       "      <th>通過人數</th>\n",
       "    </tr>\n",
       "  </thead>\n",
       "  <tbody>\n",
       "    <tr>\n",
       "      <th>0</th>\n",
       "      <td>1</td>\n",
       "      <td>20211006</td>\n",
       "      <td>109</td>\n",
       "      <td>南勢阿美語</td>\n",
       "      <td>初級</td>\n",
       "      <td>405</td>\n",
       "      <td>277</td>\n",
       "      <td>103</td>\n",
       "    </tr>\n",
       "    <tr>\n",
       "      <th>1</th>\n",
       "      <td>2</td>\n",
       "      <td>20211006</td>\n",
       "      <td>109</td>\n",
       "      <td>南勢阿美語</td>\n",
       "      <td>中級</td>\n",
       "      <td>396</td>\n",
       "      <td>309</td>\n",
       "      <td>161</td>\n",
       "    </tr>\n",
       "    <tr>\n",
       "      <th>2</th>\n",
       "      <td>3</td>\n",
       "      <td>20211006</td>\n",
       "      <td>109</td>\n",
       "      <td>南勢阿美語</td>\n",
       "      <td>中高級</td>\n",
       "      <td>91</td>\n",
       "      <td>55</td>\n",
       "      <td>6</td>\n",
       "    </tr>\n",
       "    <tr>\n",
       "      <th>3</th>\n",
       "      <td>4</td>\n",
       "      <td>20211006</td>\n",
       "      <td>109</td>\n",
       "      <td>南勢阿美語</td>\n",
       "      <td>高級</td>\n",
       "      <td>30</td>\n",
       "      <td>25</td>\n",
       "      <td>0</td>\n",
       "    </tr>\n",
       "    <tr>\n",
       "      <th>4</th>\n",
       "      <td>5</td>\n",
       "      <td>20211006</td>\n",
       "      <td>109</td>\n",
       "      <td>南勢阿美語</td>\n",
       "      <td>優級</td>\n",
       "      <td>12</td>\n",
       "      <td>10</td>\n",
       "      <td>0</td>\n",
       "    </tr>\n",
       "    <tr>\n",
       "      <th>5</th>\n",
       "      <td>6</td>\n",
       "      <td>20211006</td>\n",
       "      <td>109</td>\n",
       "      <td>秀姑巒阿美語</td>\n",
       "      <td>初級</td>\n",
       "      <td>1145</td>\n",
       "      <td>809</td>\n",
       "      <td>254</td>\n",
       "    </tr>\n",
       "    <tr>\n",
       "      <th>6</th>\n",
       "      <td>7</td>\n",
       "      <td>20211006</td>\n",
       "      <td>109</td>\n",
       "      <td>秀姑巒阿美語</td>\n",
       "      <td>中級</td>\n",
       "      <td>704</td>\n",
       "      <td>536</td>\n",
       "      <td>361</td>\n",
       "    </tr>\n",
       "    <tr>\n",
       "      <th>7</th>\n",
       "      <td>8</td>\n",
       "      <td>20211006</td>\n",
       "      <td>109</td>\n",
       "      <td>秀姑巒阿美語</td>\n",
       "      <td>中高級</td>\n",
       "      <td>310</td>\n",
       "      <td>212</td>\n",
       "      <td>34</td>\n",
       "    </tr>\n",
       "    <tr>\n",
       "      <th>8</th>\n",
       "      <td>9</td>\n",
       "      <td>20211006</td>\n",
       "      <td>109</td>\n",
       "      <td>秀姑巒阿美語</td>\n",
       "      <td>高級</td>\n",
       "      <td>74</td>\n",
       "      <td>50</td>\n",
       "      <td>1</td>\n",
       "    </tr>\n",
       "    <tr>\n",
       "      <th>9</th>\n",
       "      <td>10</td>\n",
       "      <td>20211006</td>\n",
       "      <td>109</td>\n",
       "      <td>秀姑巒阿美語</td>\n",
       "      <td>優級</td>\n",
       "      <td>29</td>\n",
       "      <td>19</td>\n",
       "      <td>0</td>\n",
       "    </tr>\n",
       "    <tr>\n",
       "      <th>10</th>\n",
       "      <td>11</td>\n",
       "      <td>20211006</td>\n",
       "      <td>109</td>\n",
       "      <td>海岸阿美語</td>\n",
       "      <td>初級</td>\n",
       "      <td>2815</td>\n",
       "      <td>2107</td>\n",
       "      <td>597</td>\n",
       "    </tr>\n",
       "    <tr>\n",
       "      <th>11</th>\n",
       "      <td>12</td>\n",
       "      <td>20211006</td>\n",
       "      <td>109</td>\n",
       "      <td>海岸阿美語</td>\n",
       "      <td>中級</td>\n",
       "      <td>1417</td>\n",
       "      <td>1067</td>\n",
       "      <td>579</td>\n",
       "    </tr>\n",
       "  </tbody>\n",
       "</table>\n",
       "</div>"
      ],
      "text/plain": [
       "    Seq  DateListed   年度   族語方言別   級別  報名人數  應試人數  通過人數\n",
       "0     1    20211006  109   南勢阿美語   初級   405   277   103\n",
       "1     2    20211006  109   南勢阿美語   中級   396   309   161\n",
       "2     3    20211006  109   南勢阿美語  中高級    91    55     6\n",
       "3     4    20211006  109   南勢阿美語   高級    30    25     0\n",
       "4     5    20211006  109   南勢阿美語   優級    12    10     0\n",
       "5     6    20211006  109  秀姑巒阿美語   初級  1145   809   254\n",
       "6     7    20211006  109  秀姑巒阿美語   中級   704   536   361\n",
       "7     8    20211006  109  秀姑巒阿美語  中高級   310   212    34\n",
       "8     9    20211006  109  秀姑巒阿美語   高級    74    50     1\n",
       "9    10    20211006  109  秀姑巒阿美語   優級    29    19     0\n",
       "10   11    20211006  109   海岸阿美語   初級  2815  2107   597\n",
       "11   12    20211006  109   海岸阿美語   中級  1417  1067   579"
      ]
     },
     "execution_count": 36,
     "metadata": {},
     "output_type": "execute_result"
    }
   ],
   "source": [
    "df_lang = pd.read_csv('方言通過.csv')\n",
    "df_lang.head(12)"
   ]
  },
  {
   "cell_type": "code",
   "execution_count": 35,
   "id": "e806fb90",
   "metadata": {},
   "outputs": [
    {
     "data": {
      "text/plain": [
       "Seq            int64\n",
       "DateListed     int64\n",
       "年度             int64\n",
       "族語方言別         object\n",
       "級別            object\n",
       "報名人數           int64\n",
       "應試人數           int64\n",
       "通過人數           int64\n",
       "dtype: object"
      ]
     },
     "execution_count": 35,
     "metadata": {},
     "output_type": "execute_result"
    }
   ],
   "source": [
    "df_lang.dtypes"
   ]
  },
  {
   "cell_type": "code",
   "execution_count": 37,
   "id": "70d235e6",
   "metadata": {},
   "outputs": [
    {
     "data": {
      "text/plain": [
       "Seq           210\n",
       "DateListed    210\n",
       "年度            210\n",
       "族語方言別         210\n",
       "級別            210\n",
       "報名人數          210\n",
       "應試人數          210\n",
       "通過人數          210\n",
       "dtype: int64"
      ]
     },
     "execution_count": 37,
     "metadata": {},
     "output_type": "execute_result"
    }
   ],
   "source": [
    "df_lang.count()"
   ]
  },
  {
   "cell_type": "code",
   "execution_count": 41,
   "id": "cb91938e",
   "metadata": {},
   "outputs": [
    {
     "data": {
      "text/plain": [
       "[405, 277, 103]"
      ]
     },
     "execution_count": 41,
     "metadata": {},
     "output_type": "execute_result"
    }
   ],
   "source": [
    "df_new = df_lang.loc[(df_lang['族語方言別'] == '南勢阿美語') & (df_lang['級別'] == '初級'), ['報名人數', '應試人數', '通過人數']]\n",
    "df_new.values.tolist()[0]"
   ]
  },
  {
   "cell_type": "code",
   "execution_count": 56,
   "id": "f65ffcdb",
   "metadata": {},
   "outputs": [
    {
     "name": "stdout",
     "output_type": "stream",
     "text": [
      "               南勢阿美語 - 初級\n",
      "=============================================\n",
      "報名人數: 405人, 應試人數: 277人, 通過人數: 103人\n"
     ]
    },
    {
     "data": {
      "image/png": "[encoded data removed]",
      "text/plain": [
       "<Figure size 432x288 with 1 Axes>"
      ]
     },
     "metadata": {},
     "output_type": "display_data"
    }
   ],
   "source": [
    "import matplotlib.pyplot as plot\n",
    "labels = ['Signup', 'Attendees', 'Pass']\n",
    "exams = df_new.values.tolist()[0]\n",
    "colors = ['lightblue','coral', 'red']\n",
    "\n",
    "plt.pie(exams, labels=labels, colors=colors, autopct='%1.2f%%', shadow=True, startangle=140)\n",
    "print(f'               南勢阿美語 - 初級')\n",
    "print(f'=============================================')\n",
    "print(f'報名人數: {exams[0]}人, 應試人數: {exams[1]}人, 通過人數: {exams[2]}人')\n",
    "plt.show()\n"
   ]
  },
  {
   "cell_type": "code",
   "execution_count": 60,
   "id": "9f6d4a5d",
   "metadata": {},
   "outputs": [
    {
     "data": {
      "text/plain": [
       "array(['南勢阿美語', '秀姑巒阿美語', '海岸阿美語', '馬蘭阿美語', '恆春阿美語', '賽考利克泰雅語', '四季泰雅語',\n",
       "       '澤敖利泰雅語', '宜蘭澤敖利泰雅語', '汶水泰雅語', '萬大泰雅語', '東排灣語', '北排灣語', '中排灣語',\n",
       "       '南排灣語', '卓群布農語', '卡群布農語', '丹群布農語', '巒群布農語', '郡群布農語', '知本卑南語',\n",
       "       '南王卑南語', '西群卑南語', '建和卑南語', '霧臺魯凱語', '東魯凱語', '多納魯凱語', '萬山魯凱語',\n",
       "       '茂林魯凱語', '大武魯凱語', '鄒語', '賽夏語', '雅美語', '邵語', '噶瑪蘭語', '太魯閣語',\n",
       "       '撒奇萊雅語', '都達語', '德固達雅語', '德路固語', '拉阿魯哇語', '卡那卡那富語'], dtype=object)"
      ]
     },
     "execution_count": 60,
     "metadata": {},
     "output_type": "execute_result"
    }
   ],
   "source": [
    "diaselects = df_lang['族語方言別'].unique()\n",
    "diaselects"
   ]
  },
  {
   "cell_type": "code",
   "execution_count": 62,
   "id": "77e4d9e4",
   "metadata": {},
   "outputs": [
    {
     "data": {
      "text/plain": [
       "array(['初級', '中級', '中高級', '高級', '優級'], dtype=object)"
      ]
     },
     "execution_count": 62,
     "metadata": {},
     "output_type": "execute_result"
    }
   ],
   "source": [
    "levels = df_lang['級別'].unique()\n",
    "levels"
   ]
  },
  {
   "cell_type": "code",
   "execution_count": null,
   "id": "22e720a2",
   "metadata": {},
   "outputs": [],
   "source": []
  }
 ],
 "metadata": {
  "kernelspec": {
   "display_name": "Python 3",
   "language": "python",
   "name": "python3"
  },
  "language_info": {
   "codemirror_mode": {
    "name": "ipython",
    "version": 3
   },
   "file_extension": ".py",
   "mimetype": "text/x-python",
   "name": "python",
   "nbconvert_exporter": "python",
   "pygments_lexer": "ipython3",
   "version": "3.8.8"
  }
 },
 "nbformat": 4,
 "nbformat_minor": 5
}
